{
 "cells": [
  {
   "cell_type": "code",
   "execution_count": 13,
   "metadata": {},
   "outputs": [
    {
     "name": "stdout",
     "output_type": "stream",
     "text": [
      "Frequent Itemsets:\n",
      "('pear',) Support: 3\n",
      "('apple', 'pear') Support: 3\n",
      "('banana', 'pear') Support: 2\n",
      "('apple', 'banana', 'pear') Support: 2\n",
      "('apple',) Support: 4\n",
      "('banana',) Support: 4\n",
      "('apple', 'banana') Support: 3\n",
      "('orange',) Support: 4\n",
      "('banana', 'orange') Support: 3\n",
      "('apple', 'orange') Support: 2\n",
      "('apple', 'banana', 'orange') Support: 2\n",
      "\n",
      "Association Rules:\n",
      "('apple',) => (('banana', 'orange'), 0.5) Confidence: (('banana', 'orange'), 0.5)\n",
      "('pear',) => (('apple', 'banana'), 0.6666666666666666) Confidence: (('apple', 'banana'), 0.6666666666666666)\n",
      "('banana',) => (('apple', 'orange'), 0.5) Confidence: (('apple', 'orange'), 0.5)\n",
      "('apple', 'banana') => (('orange',), 0.6666666666666666) Confidence: (('orange',), 0.6666666666666666)\n",
      "('apple', 'pear') => (('banana',), 0.6666666666666666) Confidence: (('banana',), 0.6666666666666666)\n",
      "('banana', 'pear') => (('apple',), 1.0) Confidence: (('apple',), 1.0)\n",
      "('orange',) => (('apple', 'banana'), 0.5) Confidence: (('apple', 'banana'), 0.5)\n",
      "('apple', 'orange') => (('banana',), 1.0) Confidence: (('banana',), 1.0)\n",
      "('banana', 'orange') => (('apple',), 0.6666666666666666) Confidence: (('apple',), 0.6666666666666666)\n"
     ]
    }
   ],
   "source": [
    "import pyfpgrowth\n",
    "\n",
    "# Sample transactions\n",
    "transactions = [\n",
    "    ['apple', 'banana', 'orange'],\n",
    "    ['apple', 'pear'],\n",
    "    ['banana', 'orange'],\n",
    "    ['apple', 'banana', 'pear'],\n",
    "    ['apple', 'banana', 'orange', 'pear'],\n",
    "    ['cherry', 'orange']\n",
    "]\n",
    "\n",
    "# Minimum support\n",
    "min_support = 2\n",
    "\n",
    "# Generate frequent itemsets using FP-Growth\n",
    "patterns = pyfpgrowth.find_frequent_patterns(transactions, min_support)\n",
    "\n",
    "# Generate association rules from frequent itemsets\n",
    "rules = pyfpgrowth.generate_association_rules(patterns, confidence_threshold=0.5)\n",
    "\n",
    "# Print frequent itemsets\n",
    "print(\"Frequent Itemsets:\")\n",
    "for itemset, support in patterns.items():\n",
    "    print(itemset, \"Support:\", support)\n",
    "\n",
    "# Print association rules\n",
    "print(\"\\nAssociation Rules:\")\n",
    "for rule, confidence in rules.items():\n",
    "    antecedent = rule\n",
    "    consequent = rules[rule]\n",
    "    print(antecedent, \"=>\", consequent, \"Confidence:\", confidence)"
   ]
  }
 ],
 "metadata": {
  "kernelspec": {
   "display_name": "Python 3",
   "language": "python",
   "name": "python3"
  },
  "language_info": {
   "codemirror_mode": {
    "name": "ipython",
    "version": 3
   },
   "file_extension": ".py",
   "mimetype": "text/x-python",
   "name": "python",
   "nbconvert_exporter": "python",
   "pygments_lexer": "ipython3",
   "version": "3.10.7"
  }
 },
 "nbformat": 4,
 "nbformat_minor": 2
}
