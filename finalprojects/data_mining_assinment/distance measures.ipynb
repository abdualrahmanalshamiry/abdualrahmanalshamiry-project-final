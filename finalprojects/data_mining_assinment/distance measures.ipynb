{
 "cells": [
  {
   "cell_type": "code",
   "execution_count": 1,
   "metadata": {},
   "outputs": [
    {
     "name": "stdout",
     "output_type": "stream",
     "text": [
      "Euclidean Distance: 5.196152422706632\n",
      "Manhattan Distance: 9\n",
      "Cosine Similarity: 0.9746318461970762\n"
     ]
    }
   ],
   "source": [
    "import numpy as np\n",
    "from sklearn.metrics.pairwise import cosine_similarity\n",
    "\n",
    "# Calculate Euclidean distance between two points\n",
    "def euclidean_distance(x1, x2):\n",
    "    return np.sqrt(np.sum((x1 - x2) ** 2))\n",
    "\n",
    "# Calculate Manhattan distance between two points\n",
    "def manhattan_distance(x1, x2):\n",
    "    return np.sum(np.abs(x1 - x2))\n",
    "\n",
    "# Calculate cosine similarity between two vectors\n",
    "def cosine_similarity_measure(x1, x2):\n",
    "    x1 = np.reshape(x1, (1, -1))\n",
    "    x2 = np.reshape(x2, (1, -1))\n",
    "    return cosine_similarity(x1, x2)[0][0]\n",
    "\n",
    "# Example usage:\n",
    "point1 = np.array([1, 2, 3])\n",
    "point2 = np.array([4, 5, 6])\n",
    "vector1 = np.array([1, 2, 3])\n",
    "vector2 = np.array([4, 5, 6])\n",
    "\n",
    "# Calculate Euclidean distance\n",
    "euclidean_dist = euclidean_distance(point1, point2)\n",
    "print(\"Euclidean Distance:\", euclidean_dist)\n",
    "\n",
    "# Calculate Manhattan distance\n",
    "manhattan_dist = manhattan_distance(point1, point2)\n",
    "print(\"Manhattan Distance:\", manhattan_dist)\n",
    "\n",
    "# Calculate cosine similarity\n",
    "cosine_sim = cosine_similarity_measure(vector1, vector2)\n",
    "print(\"Cosine Similarity:\", cosine_sim)"
   ]
  }
 ],
 "metadata": {
  "kernelspec": {
   "display_name": "Python 3",
   "language": "python",
   "name": "python3"
  },
  "language_info": {
   "codemirror_mode": {
    "name": "ipython",
    "version": 3
   },
   "file_extension": ".py",
   "mimetype": "text/x-python",
   "name": "python",
   "nbconvert_exporter": "python",
   "pygments_lexer": "ipython3",
   "version": "3.10.7"
  }
 },
 "nbformat": 4,
 "nbformat_minor": 2
}
